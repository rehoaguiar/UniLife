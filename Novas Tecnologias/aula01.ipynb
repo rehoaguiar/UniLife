{
 "cells": [
  {
   "cell_type": "code",
   "execution_count": null,
   "metadata": {},
   "outputs": [],
   "source": [
    "print('''\n",
    "░█████╗░████████╗██╗██╗░░░██╗██╗██████╗░░█████╗░██████╗░███████╗░██████╗  ██████╗░███████╗\n",
    "██╔══██╗╚══██╔══╝██║██║░░░██║██║██╔══██╗██╔══██╗██╔══██╗██╔════╝██╔════╝  ██╔══██╗██╔════╝\n",
    "███████║░░░██║░░░██║╚██╗░██╔╝██║██║░░██║███████║██║░░██║█████╗░░╚█████╗░  ██║░░██║█████╗░░\n",
    "██╔══██║░░░██║░░░██║░╚████╔╝░██║██║░░██║██╔══██║██║░░██║██╔══╝░░░╚═══██╗  ██║░░██║██╔══╝░░\n",
    "██║░░██║░░░██║░░░██║░░╚██╔╝░░██║██████╔╝██║░░██║██████╔╝███████╗██████╔╝  ██████╔╝███████╗\n",
    "╚═╝░░╚═╝░░░╚═╝░░░╚═╝░░░╚═╝░░░╚═╝╚═════╝░╚═╝░░╚═╝╚═════╝░╚══════╝╚═════╝░  ╚═════╝░╚══════╝\n",
    "\n",
    "██████╗░███████╗██╗░░░██╗██╗░██████╗░█████╗░░█████╗░\n",
    "██╔══██╗██╔════╝██║░░░██║██║██╔════╝██╔══██╗██╔══██╗\n",
    "██████╔╝█████╗░░╚██╗░██╔╝██║╚█████╗░███████║██║░░██║\n",
    "██╔══██╗██╔══╝░░░╚████╔╝░██║░╚═══██╗██╔══██║██║░░██║\n",
    "██║░░██║███████╗░░╚██╔╝░░██║██████╔╝██║░░██║╚█████╔╝\n",
    "╚═╝░░╚═╝╚══════╝░░░╚═╝░░░╚═╝╚═════╝░╚═╝░░╚═╝░╚════╝░''')\n",
    "\n",
    "# Função de Estilização\n",
    "def negrito(texto):\n",
    "    return f\"\\033[1m{texto}\\033[0m\""
   ]
  },
  {
   "cell_type": "code",
   "execution_count": null,
   "metadata": {},
   "outputs": [],
   "source": [
    "print(negrito('QUESTÃO 01'))\n",
    "print('Escreva um aplicativo que insere um número consistindo em cinco dígitos do usuário, separa o número em seus dígitos individuais e imprime os dígitos separados uns dos outros por três espaços cada. Por exemplo, se o usuário digitar o número 42339, o programa deve imprimir: 4 2 3 3 9.')\n",
    "\n",
    "print(negrito('\\nRESPOSTA:'))\n",
    "\n",
    "def perguntar_numero():\n",
    "    while True:\n",
    "        texto = input('Digite um número de cinco dígitos: ')\n",
    "\n",
    "        if len(texto) == 5 and texto.isdigit():\n",
    "            return texto\n",
    "        \n",
    "        else:\n",
    "            print('A entrada deve conter exatamente cinco dígitos numéricos. Tente novamente')\n",
    "\n",
    "def separar_texto(texto):\n",
    "    print('   '.join(texto) )\n",
    "\n",
    "numero = perguntar_numero()\n",
    "separar_texto(numero)\n",
    "        "
   ]
  },
  {
   "cell_type": "code",
   "execution_count": null,
   "metadata": {},
   "outputs": [],
   "source": [
    "print(negrito('QUESTÃO 02'))\n",
    "print('O quadrado de um número natural n é dado pela soma dos n primeiros números ímpares consecutivos. Por exemplo, 1² = 1, 2² = 1 + 3, 3² = 1 + 3 + 5. Dado um número n, calcule seu quadrado usando a soma de ímpares ao invés de produto.')\n",
    "\n",
    "print(negrito('\\nRESPOSTA:'))"
   ]
  },
  {
   "cell_type": "code",
   "execution_count": null,
   "metadata": {},
   "outputs": [],
   "source": [
    "print(negrito('QUESTÃO 03'))\n",
    "print('Defina uma funo recursiva para calcular a soma de dois naturais usando as funções suc(n) e pred(n) que devolvem, respectivamente, o sucessor e o predecessor de um natural n')\n",
    "\n",
    "print(negrito('\\nRESPOSTA:'))"
   ]
  },
  {
   "cell_type": "code",
   "execution_count": null,
   "metadata": {},
   "outputs": [],
   "source": [
    "print(negrito('QUESTÃO 04'))\n",
    "print('Implemente uma função recursiva para resolver o problema da Torre de Hanói. O problema consiste em mover todos os discos de uma torre para outra usando uma torre auxiliar, respeitando as regras do problema. Entrada O número de discos. Saída A sequência de movimentos necessários para resolver o problema. Dica Mova  n−1 discos para a torre auxiliar, depois mova o maior disco para a torre destino, e por fim, mova os  n−1 discos da torre auxiliar para a torre destino.')\n",
    "\n",
    "print(negrito('\\nRESPOSTA:'))\n"
   ]
  }
 ],
 "metadata": {
  "kernelspec": {
   "display_name": "Python 3",
   "language": "python",
   "name": "python3"
  },
  "language_info": {
   "codemirror_mode": {
    "name": "ipython",
    "version": 3
   },
   "file_extension": ".py",
   "mimetype": "text/x-python",
   "name": "python",
   "nbconvert_exporter": "python",
   "pygments_lexer": "ipython3",
   "version": "3.13.1"
  }
 },
 "nbformat": 4,
 "nbformat_minor": 2
}
