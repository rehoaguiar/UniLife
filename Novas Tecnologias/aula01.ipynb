{
 "cells": [
  {
   "cell_type": "code",
   "execution_count": 3,
   "metadata": {},
   "outputs": [
    {
     "name": "stdout",
     "output_type": "stream",
     "text": [
      "\n",
      "░█████╗░████████╗██╗██╗░░░██╗██╗██████╗░░█████╗░██████╗░███████╗░██████╗  ██████╗░███████╗\n",
      "██╔══██╗╚══██╔══╝██║██║░░░██║██║██╔══██╗██╔══██╗██╔══██╗██╔════╝██╔════╝  ██╔══██╗██╔════╝\n",
      "███████║░░░██║░░░██║╚██╗░██╔╝██║██║░░██║███████║██║░░██║█████╗░░╚█████╗░  ██║░░██║█████╗░░\n",
      "██╔══██║░░░██║░░░██║░╚████╔╝░██║██║░░██║██╔══██║██║░░██║██╔══╝░░░╚═══██╗  ██║░░██║██╔══╝░░\n",
      "██║░░██║░░░██║░░░██║░░╚██╔╝░░██║██████╔╝██║░░██║██████╔╝███████╗██████╔╝  ██████╔╝███████╗\n",
      "╚═╝░░╚═╝░░░╚═╝░░░╚═╝░░░╚═╝░░░╚═╝╚═════╝░╚═╝░░╚═╝╚═════╝░╚══════╝╚═════╝░  ╚═════╝░╚══════╝\n",
      "\n",
      "██████╗░███████╗██╗░░░██╗██╗░██████╗░█████╗░░█████╗░\n",
      "██╔══██╗██╔════╝██║░░░██║██║██╔════╝██╔══██╗██╔══██╗\n",
      "██████╔╝█████╗░░╚██╗░██╔╝██║╚█████╗░███████║██║░░██║\n",
      "██╔══██╗██╔══╝░░░╚████╔╝░██║░╚═══██╗██╔══██║██║░░██║\n",
      "██║░░██║███████╗░░╚██╔╝░░██║██████╔╝██║░░██║╚█████╔╝\n",
      "╚═╝░░╚═╝╚══════╝░░░╚═╝░░░╚═╝╚═════╝░╚═╝░░╚═╝░╚════╝░\n"
     ]
    }
   ],
   "source": [
    "print('''\n",
    "░█████╗░████████╗██╗██╗░░░██╗██╗██████╗░░█████╗░██████╗░███████╗░██████╗  ██████╗░███████╗\n",
    "██╔══██╗╚══██╔══╝██║██║░░░██║██║██╔══██╗██╔══██╗██╔══██╗██╔════╝██╔════╝  ██╔══██╗██╔════╝\n",
    "███████║░░░██║░░░██║╚██╗░██╔╝██║██║░░██║███████║██║░░██║█████╗░░╚█████╗░  ██║░░██║█████╗░░\n",
    "██╔══██║░░░██║░░░██║░╚████╔╝░██║██║░░██║██╔══██║██║░░██║██╔══╝░░░╚═══██╗  ██║░░██║██╔══╝░░\n",
    "██║░░██║░░░██║░░░██║░░╚██╔╝░░██║██████╔╝██║░░██║██████╔╝███████╗██████╔╝  ██████╔╝███████╗\n",
    "╚═╝░░╚═╝░░░╚═╝░░░╚═╝░░░╚═╝░░░╚═╝╚═════╝░╚═╝░░╚═╝╚═════╝░╚══════╝╚═════╝░  ╚═════╝░╚══════╝\n",
    "\n",
    "██████╗░███████╗██╗░░░██╗██╗░██████╗░█████╗░░█████╗░\n",
    "██╔══██╗██╔════╝██║░░░██║██║██╔════╝██╔══██╗██╔══██╗\n",
    "██████╔╝█████╗░░╚██╗░██╔╝██║╚█████╗░███████║██║░░██║\n",
    "██╔══██╗██╔══╝░░░╚████╔╝░██║░╚═══██╗██╔══██║██║░░██║\n",
    "██║░░██║███████╗░░╚██╔╝░░██║██████╔╝██║░░██║╚█████╔╝\n",
    "╚═╝░░╚═╝╚══════╝░░░╚═╝░░░╚═╝╚═════╝░╚═╝░░╚═╝░╚════╝░''')\n",
    "\n",
    "# Função de Estilização\n",
    "def negrito(texto):\n",
    "    return f\"\\033[1m{texto}\\033[0m\"\n",
    "\n",
    "import os"
   ]
  },
  {
   "cell_type": "code",
   "execution_count": 3,
   "metadata": {},
   "outputs": [
    {
     "name": "stdout",
     "output_type": "stream",
     "text": [
      "\u001b[1mQUESTÃO 01\u001b[0m\n",
      "Escreva um aplicativo que insere um número consistindo em cinco dígitos do usuário, separa o número em seus dígitos individuais e imprime os dígitos separados uns dos outros por três espaços cada. Por exemplo, se o usuário digitar o número 42339, o programa deve imprimir: 4 2 3 3 9.\n",
      "\u001b[1m\n",
      "RESPOSTA:\u001b[0m\n",
      "1   2   3   4   5\n"
     ]
    }
   ],
   "source": [
    "print(negrito('QUESTÃO 01'))\n",
    "print('Escreva um aplicativo que insere um número consistindo em cinco dígitos do usuário, separa o número em seus dígitos individuais e imprime os dígitos separados uns dos outros por três espaços cada. Por exemplo, se o usuário digitar o número 42339, o programa deve imprimir: 4 2 3 3 9.')\n",
    "\n",
    "print(negrito('\\nRESPOSTA:'))\n",
    "\n",
    "def perguntar_numero():\n",
    "    while True:\n",
    "        texto = input('Digite um número de cinco dígitos: ')\n",
    "\n",
    "        if len(texto) == 5 and texto.isdigit():\n",
    "            return texto\n",
    "        \n",
    "        else:\n",
    "            print('A entrada deve conter exatamente cinco dígitos numéricos. Tente novamente')\n",
    "\n",
    "def separar_texto(texto):\n",
    "    print('   '.join(texto) )\n",
    "\n",
    "numero = perguntar_numero()\n",
    "separar_texto(numero)"
   ]
  },
  {
   "cell_type": "code",
   "execution_count": null,
   "metadata": {},
   "outputs": [],
   "source": [
    "print(negrito('QUESTÃO 02'))\n",
    "print('O quadrado de um número natural n é dado pela soma dos n primeiros números ímpares consecutivos. Por exemplo, 1² = 1, 2² = 1 + 3, 3² = 1 + 3 + 5. Dado um número n, calcule seu quadrado usando a soma de ímpares ao invés de produto.')\n",
    "\n",
    "print(negrito('\\nRESPOSTA:'))\n",
    "\n",
    "try:\n",
    "    num_natural = int(input('Digite um número: '))\n",
    "    soma_nums = []\n",
    "    resposta = 0\n",
    "\n",
    "    for numero in range (1, (num_natural*2), 2):\n",
    "        soma_nums.append(numero)\n",
    "        resposta += numero\n",
    "\n",
    "    print(f'{num_natural}² é a soma de {soma_nums} que é igual a {resposta}')\n",
    "\n",
    "except:\n",
    "    exit"
   ]
  },
  {
   "cell_type": "code",
   "execution_count": null,
   "metadata": {},
   "outputs": [],
   "source": [
    "print(negrito('QUESTÃO 03'))\n",
    "print('Defina uma função recursiva para calcular a soma de dois naturais usando as funções suc(n) e pred(n) que devolvem, respectivamente, o sucessor e o predecessor de um natural n')\n",
    "\n",
    "print(negrito('\\nRESPOSTA:'))\n",
    "\n",
    "num1 = int(input('Digite o valor do número 1: '))\n",
    "num2 = int(input('Digite o valor do número 2: '))\n",
    "\n",
    "def suc(n):\n",
    "    return n+1\n",
    "\n",
    "def pred(n):\n",
    "    return n-1\n",
    "\n",
    "def soma(a, b):\n",
    "    if b == 0:\n",
    "        return a\n",
    "    return soma(suc(a), pred(b))\n",
    "\n",
    "resposta = soma(num1, num2)\n",
    "print(f'{num1} + {num2} = {resposta}')\n"
   ]
  },
  {
   "cell_type": "code",
   "execution_count": null,
   "metadata": {},
   "outputs": [],
   "source": [
    "print(negrito('QUESTÃO 04'))\n",
    "print('Implemente uma função recursiva para resolver o problema da Torre de Hanói. O problema consiste em mover todos os discos de uma torre para outra usando uma torre auxiliar, respeitando as regras do problema. Entrada O número de discos. Saída A sequência de movimentos necessários para resolver o problema. Dica Mova  n−1 discos para a torre auxiliar, depois mova o maior disco para a torre destino, e por fim, mova os  n−1 discos da torre auxiliar para a torre destino.')\n",
    "\n",
    "print(negrito('\\nRESPOSTA:'))\n",
    "\n",
    "discos = int(input('\\nDigite o número de discos que você deseja incluir no jogo: '))\n",
    "\n",
    "def mover_discos(n, origem, auxiliar, destino):\n",
    "   if (n == 1):\n",
    "      print(f'Mova o disco 1 de {origem} para {destino}')\n",
    "      return \n",
    "   \n",
    "   mover_discos(n-1, origem, destino, auxiliar)\n",
    "   print(f'Mova o disco {n} de {origem} para {destino}')\n",
    "   mover_discos(n-1, auxiliar, origem, destino)\n",
    "      \n",
    "mover_discos(discos, 'A', 'B', 'C')"
   ]
  }
 ],
 "metadata": {
  "kernelspec": {
   "display_name": "Python 3",
   "language": "python",
   "name": "python3"
  },
  "language_info": {
   "codemirror_mode": {
    "name": "ipython",
    "version": 3
   },
   "file_extension": ".py",
   "mimetype": "text/x-python",
   "name": "python",
   "nbconvert_exporter": "python",
   "pygments_lexer": "ipython3",
   "version": "3.11.9"
  }
 },
 "nbformat": 4,
 "nbformat_minor": 2
}
