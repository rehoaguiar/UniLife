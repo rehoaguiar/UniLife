{
 "cells": [
  {
   "cell_type": "code",
   "execution_count": null,
   "metadata": {},
   "outputs": [],
   "source": [
    "print('''\n",
    "░█████╗░████████╗██╗██╗░░░██╗██╗██████╗░░█████╗░██████╗░███████╗░██████╗  ██████╗░███████╗\n",
    "██╔══██╗╚══██╔══╝██║██║░░░██║██║██╔══██╗██╔══██╗██╔══██╗██╔════╝██╔════╝  ██╔══██╗██╔════╝\n",
    "███████║░░░██║░░░██║╚██╗░██╔╝██║██║░░██║███████║██║░░██║█████╗░░╚█████╗░  ██║░░██║█████╗░░\n",
    "██╔══██║░░░██║░░░██║░╚████╔╝░██║██║░░██║██╔══██║██║░░██║██╔══╝░░░╚═══██╗  ██║░░██║██╔══╝░░\n",
    "██║░░██║░░░██║░░░██║░░╚██╔╝░░██║██████╔╝██║░░██║██████╔╝███████╗██████╔╝  ██████╔╝███████╗\n",
    "╚═╝░░╚═╝░░░╚═╝░░░╚═╝░░░╚═╝░░░╚═╝╚═════╝░╚═╝░░╚═╝╚═════╝░╚══════╝╚═════╝░  ╚═════╝░╚══════╝\n",
    "\n",
    "██████╗░███████╗██╗░░░██╗██╗░██████╗░█████╗░░█████╗░\n",
    "██╔══██╗██╔════╝██║░░░██║██║██╔════╝██╔══██╗██╔══██╗\n",
    "██████╔╝█████╗░░╚██╗░██╔╝██║╚█████╗░███████║██║░░██║\n",
    "██╔══██╗██╔══╝░░░╚████╔╝░██║░╚═══██╗██╔══██║██║░░██║\n",
    "██║░░██║███████╗░░╚██╔╝░░██║██████╔╝██║░░██║╚█████╔╝\n",
    "╚═╝░░╚═╝╚══════╝░░░╚═╝░░░╚═╝╚═════╝░╚═╝░░╚═╝░╚════╝░''')\n",
    "\n",
    "# Função de Estilização\n",
    "def negrito(texto):\n",
    "    return f\"\\033[1m{texto}\\033[0m\""
   ]
  },
  {
   "cell_type": "code",
   "execution_count": 1,
   "metadata": {},
   "outputs": [
    {
     "ename": "NameError",
     "evalue": "name 'negrito' is not defined",
     "output_type": "error",
     "traceback": [
      "\u001b[1;31m---------------------------------------------------------------------------\u001b[0m",
      "\u001b[1;31mNameError\u001b[0m                                 Traceback (most recent call last)",
      "Cell \u001b[1;32mIn[1], line 1\u001b[0m\n\u001b[1;32m----> 1\u001b[0m \u001b[38;5;28mprint\u001b[39m(\u001b[43mnegrito\u001b[49m(\u001b[38;5;124m'\u001b[39m\u001b[38;5;124mQUESTÃO 01\u001b[39m\u001b[38;5;124m'\u001b[39m))\n\u001b[0;32m      2\u001b[0m \u001b[38;5;28mprint\u001b[39m(\u001b[38;5;124m'\u001b[39m\u001b[38;5;124mEscreva um aplicativo que insere um número consistindo em cinco dígitos do usuário, separa o número em seus dígitos individuais e imprime os dígitos separados uns dos outros por três espaços cada. Por exemplo, se o usuário digitar o número 42339, o programa deve imprimir: 4 2 3 3 9.\u001b[39m\u001b[38;5;124m'\u001b[39m)\n\u001b[0;32m      4\u001b[0m \u001b[38;5;28mprint\u001b[39m(negrito(\u001b[38;5;124m'\u001b[39m\u001b[38;5;130;01m\\n\u001b[39;00m\u001b[38;5;124mRESPOSTA:\u001b[39m\u001b[38;5;124m'\u001b[39m))\n",
      "\u001b[1;31mNameError\u001b[0m: name 'negrito' is not defined"
     ]
    }
   ],
   "source": [
    "print(negrito('QUESTÃO 01'))\n",
    "print('Escreva um aplicativo que insere um número consistindo em cinco dígitos do usuário, separa o número em seus dígitos individuais e imprime os dígitos separados uns dos outros por três espaços cada. Por exemplo, se o usuário digitar o número 42339, o programa deve imprimir: 4 2 3 3 9.')\n",
    "\n",
    "print(negrito('\\nRESPOSTA:'))\n",
    "\n",
    "def escolher_numero():\n",
    "    num_user = int(input('Digite um número de cinco dígitos: '))\n",
    "\n",
    "try:\n",
    "    num_user = int(input('Digite um número de cinco dígitos: '))\n",
    "    \n",
    "    if(len.num_user == 5):\n",
    "        print(len.num_user)\n",
    "        print(num_user)\n",
    "\n",
    "except:\n",
    "    print('Você precisa escolher um número inteiro')"
   ]
  },
  {
   "cell_type": "code",
   "execution_count": null,
   "metadata": {},
   "outputs": [],
   "source": [
    "print(negrito('QUESTÃO 02'))\n",
    "print('O quadrado de um número natural n é dado pela soma dos n primeiros números ímpares consecutivos. Por exemplo, 1² = 1, 2² = 1 + 3, 3² = 1 + 3 + 5. Dado um número n, calcule seu quadrado usando a soma de ímpares ao invés de produto.')\n",
    "\n",
    "print(negrito('\\nRESPOSTA:'))"
   ]
  },
  {
   "cell_type": "code",
   "execution_count": null,
   "metadata": {},
   "outputs": [],
   "source": [
    "print(negrito('QUESTÃO 03'))\n",
    "print('Defina uma funo recursiva para calcular a soma de dois naturais usando as funções suc(n) e pred(n) que devolvem, respectivamente, o sucessor e o predecessor de um natural n')\n",
    "\n",
    "print(negrito('\\nRESPOSTA:'))"
   ]
  },
  {
   "cell_type": "code",
   "execution_count": null,
   "metadata": {},
   "outputs": [],
   "source": [
    "print(negrito('QUESTÃO 04'))\n",
    "print('Implemente uma função recursiva para resolver o problema da Torre de Hanói. O problema consiste em mover todos os discos de uma torre para outra usando uma torre auxiliar, respeitando as regras do problema. Entrada O número de discos. Saída A sequência de movimentos necessários para resolver o problema. Dica Mova  n−1 discos para a torre auxiliar, depois mova o maior disco para a torre destino, e por fim, mova os  n−1 discos da torre auxiliar para a torre destino.')\n",
    "\n",
    "print(negrito('\\nRESPOSTA:'))\n"
   ]
  }
 ],
 "metadata": {
  "kernelspec": {
   "display_name": "Python 3",
   "language": "python",
   "name": "python3"
  },
  "language_info": {
   "codemirror_mode": {
    "name": "ipython",
    "version": 3
   },
   "file_extension": ".py",
   "mimetype": "text/x-python",
   "name": "python",
   "nbconvert_exporter": "python",
   "pygments_lexer": "ipython3",
   "version": "3.12.5"
  }
 },
 "nbformat": 4,
 "nbformat_minor": 2
}
