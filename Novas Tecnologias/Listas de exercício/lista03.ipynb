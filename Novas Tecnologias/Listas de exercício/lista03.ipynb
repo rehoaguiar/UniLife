{
 "cells": [
  {
   "cell_type": "code",
   "execution_count": 1,
   "id": "db05ace4",
   "metadata": {},
   "outputs": [
    {
     "name": "stdout",
     "output_type": "stream",
     "text": [
      "\n",
      "      \n",
      "██╗░░░░░██╗░██████╗████████╗░█████╗░  ██████╗░███████╗\n",
      "██║░░░░░██║██╔════╝╚══██╔══╝██╔══██╗  ██╔══██╗██╔════╝\n",
      "██║░░░░░██║╚█████╗░░░░██║░░░███████║  ██║░░██║█████╗░░\n",
      "██║░░░░░██║░╚═══██╗░░░██║░░░██╔══██║  ██║░░██║██╔══╝░░\n",
      "███████╗██║██████╔╝░░░██║░░░██║░░██║  ██████╔╝███████╗\n",
      "╚══════╝╚═╝╚═════╝░░░░╚═╝░░░╚═╝░░╚═╝  ╚═════╝░╚══════╝\n",
      "      \n",
      "███████╗██╗░░██╗███████╗██████╗░░█████╗░██╗░█████╗░██╗░█████╗░░██████╗  ░█████╗░██████╗░\n",
      "██╔════╝╚██╗██╔╝██╔════╝██╔══██╗██╔══██╗██║██╔══██╗██║██╔══██╗██╔════╝  ██╔══██╗╚════██╗\n",
      "█████╗░░░╚███╔╝░█████╗░░██████╔╝██║░░╚═╝██║██║░░╚═╝██║██║░░██║╚█████╗░  ██║░░██║░█████╔╝\n",
      "██╔══╝░░░██╔██╗░██╔══╝░░██╔══██╗██║░░██╗██║██║░░██╗██║██║░░██║░╚═══██╗  ██║░░██║░╚═══██╗\n",
      "███████╗██╔╝╚██╗███████╗██║░░██║╚█████╔╝██║╚█████╔╝██║╚█████╔╝██████╔╝  ╚█████╔╝██████╔╝\n",
      "╚══════╝╚═╝░░╚═╝╚══════╝╚═╝░░╚═╝░╚════╝░╚═╝░╚════╝░╚═╝░╚════╝░╚═════╝░  ░╚════╝░╚═════╝░\n"
     ]
    }
   ],
   "source": [
    "print('''\n",
    "      \n",
    "██╗░░░░░██╗░██████╗████████╗░█████╗░  ██████╗░███████╗\n",
    "██║░░░░░██║██╔════╝╚══██╔══╝██╔══██╗  ██╔══██╗██╔════╝\n",
    "██║░░░░░██║╚█████╗░░░░██║░░░███████║  ██║░░██║█████╗░░\n",
    "██║░░░░░██║░╚═══██╗░░░██║░░░██╔══██║  ██║░░██║██╔══╝░░\n",
    "███████╗██║██████╔╝░░░██║░░░██║░░██║  ██████╔╝███████╗\n",
    "╚══════╝╚═╝╚═════╝░░░░╚═╝░░░╚═╝░░╚═╝  ╚═════╝░╚══════╝\n",
    "      \n",
    "███████╗██╗░░██╗███████╗██████╗░░█████╗░██╗░█████╗░██╗░█████╗░░██████╗  ░█████╗░██████╗░\n",
    "██╔════╝╚██╗██╔╝██╔════╝██╔══██╗██╔══██╗██║██╔══██╗██║██╔══██╗██╔════╝  ██╔══██╗╚════██╗\n",
    "█████╗░░░╚███╔╝░█████╗░░██████╔╝██║░░╚═╝██║██║░░╚═╝██║██║░░██║╚█████╗░  ██║░░██║░█████╔╝\n",
    "██╔══╝░░░██╔██╗░██╔══╝░░██╔══██╗██║░░██╗██║██║░░██╗██║██║░░██║░╚═══██╗  ██║░░██║░╚═══██╗\n",
    "███████╗██╔╝╚██╗███████╗██║░░██║╚█████╔╝██║╚█████╔╝██║╚█████╔╝██████╔╝  ╚█████╔╝██████╔╝\n",
    "╚══════╝╚═╝░░╚═╝╚══════╝╚═╝░░╚═╝░╚════╝░╚═╝░╚════╝░╚═╝░╚════╝░╚═════╝░  ░╚════╝░╚═════╝░''')\n",
    "\n",
    "# Função de Estilização\n",
    "def negrito(texto):\n",
    "    return f\"\\033[1m{texto}\\033[0m\""
   ]
  },
  {
   "cell_type": "code",
   "execution_count": null,
   "id": "5480d256",
   "metadata": {},
   "outputs": [],
   "source": [
    "print(negrito('QUESTÃO 01'))\n",
    "print('Dada uma lista de palavras, construa um dicionário que mapeia cada palavra para o número de caracteres que ela possui.')\n",
    "\n",
    "print(negrito('\\nRESPOSTA:\\n'))\n",
    "\n",
    "entrada_user = input('Digite uma lista de palavras separadas por vírgula ou - para utilizar a lista padrão: ')\n",
    "dicionario_palavras = {}\n",
    "\n",
    "if(entrada_user == '-'):\n",
    "    lista_default = [\n",
    "        \"Matheus\", \"Anne Marie\", \"John\", \"Thomas\", \"Roxy\", \n",
    "        \"Dante\", \"Jack\", \"Malthael\", \"Ray\", \"Alattar\", \n",
    "        \"Samuel\", \"Samantha\", \"Connor\", \"Oliver\", \"Lollita\", \n",
    "        \"Machina\", \"Kara\", \"Nakomi\", \"Pedro\", \"Alex\", \n",
    "        \"Madeline\", \"Christopher\", \"Audrey\", \"Camille\", \"Charlotte\", \n",
    "        \"Harvey\", \"Kalanis\", \"Adewale\", \"Maya\", \"Georgina\"\n",
    "    ]\n",
    "\n",
    "    for palavra in lista_default:\n",
    "        dicionario_palavras[palavra] = len(palavra)\n",
    "\n",
    "else:\n",
    "    entrada_user_limpa = entrada_user.split(',')\n",
    "\n",
    "    for palavra in entrada_user_limpa:\n",
    "        dicionario_palavras[palavra.strip()] = len(palavra.strip())\n",
    "\n",
    "print('Palavra | Caracteres')\n",
    "for palavra, valor in dicionario_palavras.items():\n",
    "    print(f'{palavra}: {valor} caracteres')\n",
    "\n"
   ]
  },
  {
   "cell_type": "code",
   "execution_count": null,
   "id": "e3d60b43",
   "metadata": {},
   "outputs": [],
   "source": [
    "print(negrito('QUESTÃO 02'))\n",
    "print('Dada uma lista de palavras, agrupe-as em um dicionário onde a chave seja uma forma canônica (por exemplo, os caracteres ordenados) e o valor seja a lista de palavras que são anagramas entre si. Essa técnica pode ser utilizada para identificar grupos de palavras com os mesmos caracteres, independentemente da ordem.')\n",
    "\n",
    "print(''' \n",
    "Entrada: [\"amor\", \"roma\", \"mora\", \"carro\", \"orça\", \"orca\", \"arco\"]  \n",
    "Saída:  ('a', 'm', 'o', 'r'): ['amor', 'roma', 'mora']\n",
    "        ('c', 'o', 'r', 'r'): ['carro']\n",
    "        ('a', 'c', 'o', 'r'): ['orça', 'orca', 'arco'] ''')\n",
    "\n",
    "print(negrito('\\nRESPOSTA:'))"
   ]
  },
  {
   "cell_type": "code",
   "execution_count": null,
   "id": "9579cc75",
   "metadata": {},
   "outputs": [],
   "source": [
    "print(negrito('QUESTÃO 03'))\n",
    "print('Dada uma lista de intervalos representados por tuplas (início, fim), escreva um programa que mescle os intervalos que se sobrepõem. Por exemplo, dado os intervalos [(1,4), (2,5), (7,9)] , a saída deve ser [(1,5), (7,9)]')\n",
    "\n",
    "print(negrito('\\nRESPOSTA:'))"
   ]
  },
  {
   "cell_type": "code",
   "execution_count": null,
   "id": "e6c1dca3",
   "metadata": {},
   "outputs": [],
   "source": [
    "print(negrito('QUESTÃO 04'))\n",
    "print('Dada uma lista de números, conte a frequência de cada número e, em seguida, filtre e exiba somente os números que aparecem um número mínimo de vezes (por exemplo, pelo menos 3 vezes).')\n",
    "\n",
    "print(negrito('\\nRESPOSTA:'))"
   ]
  },
  {
   "cell_type": "code",
   "execution_count": null,
   "id": "97d633f4",
   "metadata": {},
   "outputs": [],
   "source": [
    "print(negrito('QUESTÃO 05'))\n",
    "print('Represente polinômios como dicionários, onde as chaves são os expoentes e os valores são os coeficientes. Por exemplo, o polinômio 3x² + 2x + 1 é representado por {2:3, 1:2, 0:1}. Crie uma função que multiplique dois polinômios e retorne o polinômio resultante, também como dicionário.')\n",
    "\n",
    "print(negrito('\\nRESPOSTA:'))"
   ]
  },
  {
   "cell_type": "code",
   "execution_count": null,
   "id": "6fa6a60d",
   "metadata": {},
   "outputs": [],
   "source": [
    "print(negrito('QUESTÃO 06'))\n",
    "print('Dada uma lista de números inteiros e um valor alvo, determine se existe um subconjunto cuja soma seja exatamente igual ao valor alvo.')\n",
    "\n",
    "print(negrito('\\nRESPOSTA:'))"
   ]
  },
  {
   "cell_type": "code",
   "execution_count": null,
   "id": "fc3fd9dd",
   "metadata": {},
   "outputs": [],
   "source": [
    "print(negrito('QUESTÃO 07'))\n",
    "print('Faça um jogo da Forca utilizando listas. Dada uma palavra, dê algumas chances para o usuário acertar.')\n",
    "\n",
    "print(negrito('\\nRESPOSTA:'))"
   ]
  },
  {
   "cell_type": "code",
   "execution_count": null,
   "id": "934863c1",
   "metadata": {},
   "outputs": [
    {
     "name": "stdout",
     "output_type": "stream",
     "text": [
      "\u001b[1mQUESTÃO 08\u001b[0m\n",
      "Faça um programa que leia uma expressão com parênteses. Usando pilhas, verifique se os parênteses foram abertos e fechados na ordem correta. \n",
      "            Exemplo: (()) OK ()()(()()) OK ( ) ) Erro. \n",
      "Você pode adicionar elementos à pilha sempre que encontrar abre parênteses e desempilhá-la a cada fecha parênteses. Ao desempilhar, verifique se o topo da pilha é um abre parênteses. Se a expressão estiver correta, sua pilha estará vazia no final.\n",
      "\u001b[1m\n",
      "RESPOSTA:\u001b[0m\n"
     ]
    }
   ],
   "source": [
    "print(negrito('QUESTÃO 08'))\n",
    "print('''Faça um programa que leia uma expressão com parênteses. Usando pilhas, verifique se os parênteses foram abertos e fechados na ordem correta. Exemplo: \n",
    "      (()) OK \n",
    "      ()()(()()) OK \n",
    "      ( ) ) Erro. \n",
    "Você pode adicionar elementos à pilha sempre que encontrar abre parênteses e desempilhá-la a cada fecha parênteses. Ao desempilhar, verifique se o topo da pilha é um abre parênteses. Se a expressão estiver correta, sua pilha estará vazia no final.''')\n",
    "\n",
    "print(negrito('\\nRESPOSTA:'))"
   ]
  },
  {
   "cell_type": "code",
   "execution_count": null,
   "id": "4ab89d47",
   "metadata": {},
   "outputs": [],
   "source": [
    "print(negrito('QUESTÃO 09'))\n",
    "print(''' Escreva um programa que compare duas listas. Utilizando operações com conjuntos, imprima:\n",
    "            * Os valores comuns às duas listas;\n",
    "            * Os valores que só existem na primeira lista;\n",
    "            * Os valores que existem apenas na segunda lista; \n",
    "            * Uma lista com os elementos não repetidos das duas listas;\n",
    "            * A primeira lista sem os elementos repetidos na segunda lista.''')\n",
    "\n",
    "print(negrito('\\nRESPOSTA:'))"
   ]
  },
  {
   "cell_type": "code",
   "execution_count": null,
   "id": "5adbb233",
   "metadata": {},
   "outputs": [],
   "source": [
    "print(negrito('QUESTÃO 10'))\n",
    "print('''Crie um programa que solicite ao usuário os dados de uma pessoa e armazene essas informações em um dicionário. O dicionário deverá conter as seguintes chaves e seus respectivos valores:\n",
    "            * first_name: Primeiro nome;\n",
    "            * last_name: Sobrenome;\n",
    "            * age: Idade;\n",
    "            * city: Cidade onde a pessoa vive.\n",
    "O programa deve apresentar todas as informações armazenadas no\n",
    "dicionário. Com uso de listas, armazene dados de várias pessoas. Exiba todas as informações armazenadas''')\n",
    "\n",
    "print(negrito('\\nRESPOSTA:'))"
   ]
  }
 ],
 "metadata": {
  "kernelspec": {
   "display_name": "Python 3",
   "language": "python",
   "name": "python3"
  },
  "language_info": {
   "codemirror_mode": {
    "name": "ipython",
    "version": 3
   },
   "file_extension": ".py",
   "mimetype": "text/x-python",
   "name": "python",
   "nbconvert_exporter": "python",
   "pygments_lexer": "ipython3",
   "version": "3.12.10"
  }
 },
 "nbformat": 4,
 "nbformat_minor": 5
}
