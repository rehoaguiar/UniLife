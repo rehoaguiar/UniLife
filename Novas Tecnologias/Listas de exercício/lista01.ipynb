{
 "cells": [
  {
   "cell_type": "code",
   "execution_count": null,
   "metadata": {},
   "outputs": [
    {
     "name": "stdout",
     "output_type": "stream",
     "text": [
      "\n",
      "\n",
      "██╗░░░░░██╗░██████╗████████╗░█████╗░  ██████╗░███████╗\n",
      "██║░░░░░██║██╔════╝╚══██╔══╝██╔══██╗  ██╔══██╗██╔════╝\n",
      "██║░░░░░██║╚█████╗░░░░██║░░░███████║  ██║░░██║█████╗░░\n",
      "██║░░░░░██║░╚═══██╗░░░██║░░░██╔══██║  ██║░░██║██╔══╝░░\n",
      "███████╗██║██████╔╝░░░██║░░░██║░░██║  ██████╔╝███████╗\n",
      "╚══════╝╚═╝╚═════╝░░░░╚═╝░░░╚═╝░░╚═╝  ╚═════╝░╚══════╝\n",
      "\n",
      "███████╗██╗░░██╗███████╗██████╗░░█████╗░██╗░█████╗░██╗░█████╗░░██████╗  ░█████╗░░░███╗░░\n",
      "██╔════╝╚██╗██╔╝██╔════╝██╔══██╗██╔══██╗██║██╔══██╗██║██╔══██╗██╔════╝  ██╔══██╗░████║░░\n",
      "█████╗░░░╚███╔╝░█████╗░░██████╔╝██║░░╚═╝██║██║░░╚═╝██║██║░░██║╚█████╗░  ██║░░██║██╔██║░░\n",
      "██╔══╝░░░██╔██╗░██╔══╝░░██╔══██╗██║░░██╗██║██║░░██╗██║██║░░██║░╚═══██╗  ██║░░██║╚═╝██║░░\n",
      "███████╗██╔╝╚██╗███████╗██║░░██║╚█████╔╝██║╚█████╔╝██║╚█████╔╝██████╔╝  ╚█████╔╝███████╗\n",
      "╚══════╝╚═╝░░╚═╝╚══════╝╚═╝░░╚═╝░╚════╝░╚═╝░╚════╝░╚═╝░╚════╝░╚═════╝░  ░╚════╝░╚══════╝\n"
     ]
    }
   ],
   "source": [
    "print('''\n",
    "      \n",
    "██╗░░░░░██╗░██████╗████████╗░█████╗░  ██████╗░███████╗\n",
    "██║░░░░░██║██╔════╝╚══██╔══╝██╔══██╗  ██╔══██╗██╔════╝\n",
    "██║░░░░░██║╚█████╗░░░░██║░░░███████║  ██║░░██║█████╗░░\n",
    "██║░░░░░██║░╚═══██╗░░░██║░░░██╔══██║  ██║░░██║██╔══╝░░\n",
    "███████╗██║██████╔╝░░░██║░░░██║░░██║  ██████╔╝███████╗\n",
    "╚══════╝╚═╝╚═════╝░░░░╚═╝░░░╚═╝░░╚═╝  ╚═════╝░╚══════╝\n",
    "\n",
    "███████╗██╗░░██╗███████╗██████╗░░█████╗░██╗░█████╗░██╗░█████╗░░██████╗  ░█████╗░░░███╗░░\n",
    "██╔════╝╚██╗██╔╝██╔════╝██╔══██╗██╔══██╗██║██╔══██╗██║██╔══██╗██╔════╝  ██╔══██╗░████║░░\n",
    "█████╗░░░╚███╔╝░█████╗░░██████╔╝██║░░╚═╝██║██║░░╚═╝██║██║░░██║╚█████╗░  ██║░░██║██╔██║░░\n",
    "██╔══╝░░░██╔██╗░██╔══╝░░██╔══██╗██║░░██╗██║██║░░██╗██║██║░░██║░╚═══██╗  ██║░░██║╚═╝██║░░\n",
    "███████╗██╔╝╚██╗███████╗██║░░██║╚█████╔╝██║╚█████╔╝██║╚█████╔╝██████╔╝  ╚█████╔╝███████╗\n",
    "╚══════╝╚═╝░░╚═╝╚══════╝╚═╝░░╚═╝░╚════╝░╚═╝░╚════╝░╚═╝░╚════╝░╚═════╝░  ░╚════╝░╚══════╝''')\n",
    "\n",
    "# Função de Estilização\n",
    "def negrito(texto):\n",
    "    return f\"\\033[1m{texto}\\033[0m\"\n",
    "\n",
    "import os\n",
    "import math"
   ]
  },
  {
   "cell_type": "code",
   "execution_count": null,
   "metadata": {},
   "outputs": [
    {
     "name": "stdout",
     "output_type": "stream",
     "text": [
      "\n",
      "    Quadrado            Oval             Seta           Losango\n",
      "\n",
      "    ***********         * * *             *                *\n",
      "    *         *       *       *              *          *     *\n",
      "    *         *      *         *      ******   *      *         *\n",
      "    *         *       *       *              *          *     *\n",
      "    ***********         * * *             *                *     \n",
      "\n"
     ]
    }
   ],
   "source": [
    "print(negrito('QUESTÃO 01'))\n",
    "print('Escreva um aplicativo que exibe uma caixa, uma oval, uma seta e um losango utilizando asteriscos (*).')\n",
    "\n",
    "print(negrito('\\nRESPOSTA:'))\n",
    "\n",
    "\n",
    "print('''\n",
    "    Quadrado            Oval             Seta           Losango\n",
    "\n",
    "    ***********         * * *             *                *\n",
    "    *         *       *       *              *          *     *\n",
    "    *         *      *         *      ******   *      *         *\n",
    "    *         *       *       *              *          *     *\n",
    "    ***********         * * *             *                *     \n",
    "''')"
   ]
  },
  {
   "cell_type": "code",
   "execution_count": null,
   "metadata": {},
   "outputs": [],
   "source": [
    "print(negrito('QUESTÃO 02'))\n",
    "print('Escreva um aplicativo que insere um número consistindo em cinco dígitos do usuário, separa o número em seus dígitos individuais e imprime os dígitos separados uns dos outros por três espaços cada. Por exemplo, se o usuário digitar o número 42339, o programa deve imprimir: 4 2 3 3 9.')\n",
    "\n",
    "print(negrito('\\nRESPOSTA:'))\n",
    "\n",
    "def perguntar_user():\n",
    "    pass\n",
    "    \n",
    "def perguntar_numero():\n",
    "    while True:\n",
    "        texto = input('Digite um número de cinco dígitos: ')\n",
    "\n",
    "        if len(texto) == 5 and texto.isdigit():\n",
    "            return texto\n",
    "        \n",
    "        else:\n",
    "            print('A entrada deve conter exatamente cinco dígitos numéricos. Tente novamente')\n",
    "\n",
    "def separar_texto(texto):\n",
    "    print('   '.join(texto) )\n",
    "\n",
    "numero = perguntar_numero()\n",
    "separar_texto(numero)"
   ]
  },
  {
   "cell_type": "code",
   "execution_count": null,
   "metadata": {},
   "outputs": [],
   "source": [
    "print(negrito('QUESTÃO 03'))\n",
    "print('Faça um programa que calcule a distância entre dois pontos no plano cartesiano. d1,2 = raiz((x1 − x2)^2 + (y1 − y2)^2)')\n",
    "\n",
    "print(negrito('\\nRESPOSTA:'))\n",
    "\n",
    "try:\n",
    "    x1 = float(input('Digite um número para x1: '))\n",
    "    y1 = float(input('Digite um número para y1: '))\n",
    "    x2 = float(input('Digite um número para x2: '))\n",
    "    y2 = float(input('Digite um número para y2: '))\n",
    "\n",
    "except:\n",
    "    print('Por favor digite somente números!')\n",
    "\n",
    "def calcularDistancia(x1, y1, x2, y2):\n",
    "    distancia = math.sqrt(pow(x1 - x2, 2) + pow(y1 - y2, 2))\n",
    "    \n",
    "    print(f'A distância entre os pontos ({x1},{y1}) e ({x1},{y1}) é igual a {distancia}')\n",
    "\n",
    "calcularDistancia(x1, y1, x2, y2)"
   ]
  },
  {
   "cell_type": "code",
   "execution_count": 6,
   "metadata": {},
   "outputs": [
    {
     "name": "stdout",
     "output_type": "stream",
     "text": [
      "\u001b[1mQUESTÃO 04\u001b[0m\n",
      "Crie um programa que peça ao usuário para digitar uma frase e conte quantas vogais (a, e, i, o, u) aparecem na frase. Considere que a contagem deve ser case-insensitive (ou seja, não diferencie maiúsculas de minúsculas).\n",
      "\u001b[1m\n",
      "RESPOSTA:\u001b[0m\n",
      "A quantidade de vogais na frase \"Eu Amo Teteu\" é igual a 7\n"
     ]
    }
   ],
   "source": [
    "print(negrito('QUESTÃO 04'))\n",
    "print('Crie um programa que peça ao usuário para digitar uma frase e conte quantas vogais (a, e, i, o, u) aparecem na frase. Considere que a contagem deve ser case-insensitive (ou seja, não diferencie maiúsculas de minúsculas).')\n",
    "\n",
    "print(negrito('\\nRESPOSTA:'))\n",
    "\n",
    "frase_user = input('Digite uma frase: ')\n",
    "vogais = 'AEIOU'\n",
    "numVogais = 0\n",
    "\n",
    "for letras in frase_user.upper():\n",
    "    if letras in vogais:\n",
    "        numVogais += 1\n",
    "\n",
    "print(f'A quantidade de vogais na frase \"{frase_user}\" é igual a {numVogais}')"
   ]
  },
  {
   "cell_type": "code",
   "execution_count": null,
   "metadata": {},
   "outputs": [
    {
     "name": "stdout",
     "output_type": "stream",
     "text": [
      "\u001b[1mQUESTÃO 05\u001b[0m\n",
      "Uma empresa que quer enviar dados pela internet pediu-lhe que escrevesse um programa que criptografe dados a fim de que eles possam ser transmitidos com maior segurança. Todos os dados são transmitidos como inteiros de quatro dígitos. Seu aplicativo deve ler um inteiro de quatro dígitos inserido pelo usuário e criptografá-lo da seguinte maneira: substitua cada dígito pelo resultado da adição de 7 ao dígito, obtendo o restante depois da divisão do novo valor por 10. Troque então o primeiro dígito pelo terceiro e o segundo dígito pelo quarto. Então, imprima o inteiro criptografado. Escreva um aplicativo separado que receba a entrada de um inteiro de quatro dígitos criptografado e o descriptografe (revertendo o esquema de criptografia) para formar o número original.\n",
      "\u001b[1m\n",
      "RESPOSTA:\u001b[0m\n",
      "A senha deve conter 4 digítos inteiros. Tente Novamente\n"
     ]
    }
   ],
   "source": [
    "print(negrito('QUESTÃO 05'))\n",
    "print('Uma empresa que quer enviar dados pela internet pediu-lhe que escrevesse um programa que criptografe dados a fim de que eles possam ser transmitidos com maior segurança. Todos os dados são transmitidos como inteiros de quatro dígitos. Seu aplicativo deve ler um inteiro de quatro dígitos inserido pelo usuário e criptografá-lo da seguinte maneira: substitua cada dígito pelo resultado da adição de 7 ao dígito, obtendo o restante depois da divisão do novo valor por 10. Troque então o primeiro dígito pelo terceiro e o segundo dígito pelo quarto. Então, imprima o inteiro criptografado. Escreva um aplicativo separado que receba a entrada de um inteiro de quatro dígitos criptografado e o descriptografe (revertendo o esquema de criptografia) para formar o número original.')\n",
    "\n",
    "print(negrito('\\nRESPOSTA:'))\n",
    "\n",
    "senha = input('Digite os 4 dígitos que você deseja criptografar: ')\n",
    "\n",
    "if len(senha) == 4 and senha.isdigit():\n",
    "    lista = []\n",
    "\n",
    "    for digito in senha:\n",
    "        digito = int(digito) \n",
    "        digitoCriptofado = (digito + 7) % 10\n",
    "        lista.append(digitoCriptofado)\n",
    "\n",
    "    lista[0], lista[2] = lista[2], lista[0] # Troca o 1° com o 3°\n",
    "    lista[1], lista[3] = lista[3], lista[1] # Troca o 2° com o 4°\n",
    "\n",
    "    numero_criptografado = ''.join(map(str, lista))\n",
    "    print(f'O número **** criptografado é igual {numero_criptografado}')\n",
    "\n",
    "else: \n",
    "    print('A senha deve conter 4 números inteiros. Tente Novamente')\n",
    "\n",
    "    \n",
    "\n"
   ]
  }
 ],
 "metadata": {
  "kernelspec": {
   "display_name": "Python 3",
   "language": "python",
   "name": "python3"
  },
  "language_info": {
   "codemirror_mode": {
    "name": "ipython",
    "version": 3
   },
   "file_extension": ".py",
   "mimetype": "text/x-python",
   "name": "python",
   "nbconvert_exporter": "python",
   "pygments_lexer": "ipython3",
   "version": "3.12.5"
  }
 },
 "nbformat": 4,
 "nbformat_minor": 2
}
