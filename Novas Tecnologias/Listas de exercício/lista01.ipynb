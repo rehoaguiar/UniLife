{
 "cells": [
  {
   "cell_type": "code",
   "execution_count": null,
   "metadata": {},
   "outputs": [],
   "source": [
    "print('''\n",
    "\n",
    "██╗░░░░░██╗░██████╗████████╗░█████╗░  ██████╗░███████╗\n",
    "██║░░░░░██║██╔════╝╚══██╔══╝██╔══██╗  ██╔══██╗██╔════╝\n",
    "██║░░░░░██║╚█████╗░░░░██║░░░███████║  ██║░░██║█████╗░░\n",
    "██║░░░░░██║░╚═══██╗░░░██║░░░██╔══██║  ██║░░██║██╔══╝░░\n",
    "███████╗██║██████╔╝░░░██║░░░██║░░██║  ██████╔╝███████╗\n",
    "╚══════╝╚═╝╚═════╝░░░░╚═╝░░░╚═╝░░╚═╝  ╚═════╝░╚══════╝\n",
    "\n",
    "███████╗██╗░░██╗███████╗██████╗░░█████╗░██╗░█████╗░██╗░█████╗░░██████╗  ░█████╗░░░███╗░░\n",
    "██╔════╝╚██╗██╔╝██╔════╝██╔══██╗██╔══██╗██║██╔══██╗██║██╔══██╗██╔════╝  ██╔══██╗░████║░░\n",
    "█████╗░░░╚███╔╝░█████╗░░██████╔╝██║░░╚═╝██║██║░░╚═╝██║██║░░██║╚█████╗░  ██║░░██║██╔██║░░\n",
    "██╔══╝░░░██╔██╗░██╔══╝░░██╔══██╗██║░░██╗██║██║░░██╗██║██║░░██║░╚═══██╗  ██║░░██║╚═╝██║░░\n",
    "███████╗██╔╝╚██╗███████╗██║░░██║╚█████╔╝██║╚█████╔╝██║╚█████╔╝██████╔╝  ╚█████╔╝███████╗\n",
    "╚══════╝╚═╝░░╚═╝╚══════╝╚═╝░░╚═╝░╚════╝░╚═╝░╚════╝░╚═╝░╚════╝░╚═════╝░  ░╚════╝░╚══════╝''')\n",
    "\n",
    "# Função de Estilização\n",
    "def negrito(texto):\n",
    "    return f\"\\033[1m{texto}\\033[0m\"\n",
    "\n",
    "import os"
   ]
  },
  {
   "cell_type": "code",
   "execution_count": 2,
   "metadata": {},
   "outputs": [
    {
     "name": "stdout",
     "output_type": "stream",
     "text": [
      "\n",
      "    Quadrado            Oval             Seta           Losango\n",
      "\n",
      "    ***********         * * *             *                *\n",
      "    *         *       *       *              *          *     *\n",
      "    *         *      *         *      ******   *      *         *\n",
      "    *         *       *       *              *          *     *\n",
      "    ***********         * * *             *                *     \n",
      "\n"
     ]
    }
   ],
   "source": [
    "print(negrito('QUESTÃO 01'))\n",
    "print('Escreva um aplicativo que exibe uma caixa, uma oval, uma seta e um losango utilizando asteriscos (*).')\n",
    "\n",
    "print(negrito('\\nRESPOSTA:'))\n",
    "\n",
    "\n",
    "print('''\n",
    "    Quadrado            Oval             Seta           Losango\n",
    "\n",
    "    ***********         * * *             *                *\n",
    "    *         *       *       *              *          *     *\n",
    "    *         *      *         *      ******   *      *         *\n",
    "    *         *       *       *              *          *     *\n",
    "    ***********         * * *             *                *     \n",
    "''')"
   ]
  },
  {
   "cell_type": "markdown",
   "metadata": {},
   "source": [
    "Escreva um aplicativo que insere um número consistindo em cinco dígitos do usuário, separa o número em seus dígitos individuais e imprime os dígitos separados uns dos outros por três espaços cada. Por exemplo, se o usuário digitar o número 42339, o programa deve imprimir: 4 2 3 3 9."
   ]
  },
  {
   "cell_type": "code",
   "execution_count": null,
   "metadata": {},
   "outputs": [],
   "source": [
    "def function perguntar_user()\n",
    "\n",
    "\n",
    "try:\n",
    "    num_user = input('Digite um número de 5 dígitos')\n",
    "\n",
    "except:\n",
    "    print('Favor digitar um número que contenha 5 dígitos')"
   ]
  },
  {
   "cell_type": "markdown",
   "metadata": {},
   "source": [
    "Faça um programa que calcule a distância entre dois pontos no plano cartesiano.\n",
    "d1,2 = raiz((x1 − x2)^2 + (y1 − y2)^2)"
   ]
  },
  {
   "cell_type": "code",
   "execution_count": null,
   "metadata": {},
   "outputs": [],
   "source": []
  },
  {
   "cell_type": "markdown",
   "metadata": {},
   "source": [
    "Crie um programa que peça ao usuário para digitar uma frase e conte quantas vogais (a, e, i, o, u) aparecem na frase. Considere que a contagem deve ser case-insensitive (ou seja, não diferencie maiúsculas de minúsculas)."
   ]
  },
  {
   "cell_type": "code",
   "execution_count": null,
   "metadata": {},
   "outputs": [],
   "source": []
  },
  {
   "cell_type": "markdown",
   "metadata": {},
   "source": [
    "Uma empresa que quer enviar dados pela internet pediu-lhe que escrevesse um programa que criptografe dados a fim de que eles possam ser transmitidos com maior segurança. Todos os dados são transmitidos como inteiros de quatro dígitos. Seu aplicativo deve ler um inteiro de quatro dígitos inserido pelo usuário e criptografá-lo da seguinte maneira: substitua cada dígito pelo resultado da adição de 7 ao dígito, obtendo o restante depois da divisão do novo valor por 10. Troque então o primeiro dígito pelo terceiro e o segundo dígito pelo quarto. Então, imprima o inteiro criptografado. Escreva um aplicativo separado que receba a entrada de um inteiro de quatro dígitos criptografado e o descriptografe (revertendo o esquema de criptografia) para formar o número original."
   ]
  },
  {
   "cell_type": "code",
   "execution_count": null,
   "metadata": {},
   "outputs": [],
   "source": []
  }
 ],
 "metadata": {
  "kernelspec": {
   "display_name": "Python 3",
   "language": "python",
   "name": "python3"
  },
  "language_info": {
   "codemirror_mode": {
    "name": "ipython",
    "version": 3
   },
   "file_extension": ".py",
   "mimetype": "text/x-python",
   "name": "python",
   "nbconvert_exporter": "python",
   "pygments_lexer": "ipython3",
   "version": "3.13.0"
  }
 },
 "nbformat": 4,
 "nbformat_minor": 2
}
