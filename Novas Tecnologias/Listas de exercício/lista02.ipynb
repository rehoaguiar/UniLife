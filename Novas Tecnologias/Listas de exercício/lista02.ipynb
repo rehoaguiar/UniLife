{
 "cells": [
  {
   "cell_type": "code",
   "execution_count": 34,
   "metadata": {},
   "outputs": [
    {
     "name": "stdout",
     "output_type": "stream",
     "text": [
      "\n",
      "\n",
      "██╗░░░░░██╗░██████╗████████╗░█████╗░  ██████╗░███████╗\n",
      "██║░░░░░██║██╔════╝╚══██╔══╝██╔══██╗  ██╔══██╗██╔════╝\n",
      "██║░░░░░██║╚█████╗░░░░██║░░░███████║  ██║░░██║█████╗░░\n",
      "██║░░░░░██║░╚═══██╗░░░██║░░░██╔══██║  ██║░░██║██╔══╝░░\n",
      "███████╗██║██████╔╝░░░██║░░░██║░░██║  ██████╔╝███████╗\n",
      "╚══════╝╚═╝╚═════╝░░░░╚═╝░░░╚═╝░░╚═╝  ╚═════╝░╚══════╝\n",
      "\n",
      "███████╗██╗░░██╗███████╗██████╗░░█████╗░██╗░█████╗░██╗░█████╗░░██████╗  ░█████╗░░░███╗░░\n",
      "██╔════╝╚██╗██╔╝██╔════╝██╔══██╗██╔══██╗██║██╔══██╗██║██╔══██╗██╔════╝  ██╔══██╗░████║░░\n",
      "█████╗░░░╚███╔╝░█████╗░░██████╔╝██║░░╚═╝██║██║░░╚═╝██║██║░░██║╚█████╗░  ██║░░██║██╔██║░░\n",
      "██╔══╝░░░██╔██╗░██╔══╝░░██╔══██╗██║░░██╗██║██║░░██╗██║██║░░██║░╚═══██╗  ██║░░██║╚═╝██║░░\n",
      "███████╗██╔╝╚██╗███████╗██║░░██║╚█████╔╝██║╚█████╔╝██║╚█████╔╝██████╔╝  ╚█████╔╝███████╗\n",
      "╚══════╝╚═╝░░╚═╝╚══════╝╚═╝░░╚═╝░╚════╝░╚═╝░╚════╝░╚═╝░╚════╝░╚═════╝░  ░╚════╝░╚══════╝\n"
     ]
    }
   ],
   "source": [
    "print('''\n",
    "\n",
    "██╗░░░░░██╗░██████╗████████╗░█████╗░  ██████╗░███████╗\n",
    "██║░░░░░██║██╔════╝╚══██╔══╝██╔══██╗  ██╔══██╗██╔════╝\n",
    "██║░░░░░██║╚█████╗░░░░██║░░░███████║  ██║░░██║█████╗░░\n",
    "██║░░░░░██║░╚═══██╗░░░██║░░░██╔══██║  ██║░░██║██╔══╝░░\n",
    "███████╗██║██████╔╝░░░██║░░░██║░░██║  ██████╔╝███████╗\n",
    "╚══════╝╚═╝╚═════╝░░░░╚═╝░░░╚═╝░░╚═╝  ╚═════╝░╚══════╝\n",
    "\n",
    "███████╗██╗░░██╗███████╗██████╗░░█████╗░██╗░█████╗░██╗░█████╗░░██████╗  ░█████╗░░░███╗░░\n",
    "██╔════╝╚██╗██╔╝██╔════╝██╔══██╗██╔══██╗██║██╔══██╗██║██╔══██╗██╔════╝  ██╔══██╗░████║░░\n",
    "█████╗░░░╚███╔╝░█████╗░░██████╔╝██║░░╚═╝██║██║░░╚═╝██║██║░░██║╚█████╗░  ██║░░██║██╔██║░░\n",
    "██╔══╝░░░██╔██╗░██╔══╝░░██╔══██╗██║░░██╗██║██║░░██╗██║██║░░██║░╚═══██╗  ██║░░██║╚═╝██║░░\n",
    "███████╗██╔╝╚██╗███████╗██║░░██║╚█████╔╝██║╚█████╔╝██║╚█████╔╝██████╔╝  ╚█████╔╝███████╗\n",
    "╚══════╝╚═╝░░╚═╝╚══════╝╚═╝░░╚═╝░╚════╝░╚═╝░╚════╝░╚═╝░╚════╝░╚═════╝░  ░╚════╝░╚══════╝''')\n",
    "\n",
    "# Função de Estilização\n",
    "def negrito(texto):\n",
    "    return f\"\\033[1m{texto}\\033[0m\"\n",
    "\n",
    "# Importando bibliotecas\n",
    "import random\n",
    "import re"
   ]
  },
  {
   "cell_type": "code",
   "execution_count": null,
   "metadata": {},
   "outputs": [],
   "source": [
    "print(negrito('QUESTÃO 01'))\n",
    "print('Crie um programa que some todos os números pares entre 1 e N, onde N é fornecido pelo usuário')\n",
    "\n",
    "print(negrito('\\nRESPOSTA:'))\n",
    "\n",
    "n = int(input('Digite um valor para N: '))\n",
    "contador = 0\n",
    "soma = 0\n",
    "\n",
    "while contador <= n:\n",
    "    if contador % 2 == 0:\n",
    "        soma += contador\n",
    "    \n",
    "    contador += 1\n",
    "\n",
    "print(f'O valor de {n} é igual a {soma}')\n"
   ]
  },
  {
   "cell_type": "code",
   "execution_count": 24,
   "metadata": {},
   "outputs": [
    {
     "name": "stdout",
     "output_type": "stream",
     "text": [
      "\u001b[1mQUESTÃO 02\u001b[0m\n",
      "Escreva um aplicativo que solicita ao usuário que insira o tamanho do lado de um quadrado e, então, exibe um quadrado vazio desse tamanho com asteriscos. Seu programa deve trabalhar com quadrados de todos os comprimentos de lado possíveis entre 1 e 20\n",
      "\u001b[1m\n",
      "RESPOSTA:\u001b[0m\n",
      "* * * * * \n",
      "*       *\n",
      "*       *\n",
      "*       *\n",
      "* * * * * \n"
     ]
    }
   ],
   "source": [
    "print(negrito('QUESTÃO 02'))\n",
    "print('Escreva um aplicativo que solicita ao usuário que insira o tamanho do lado de um quadrado e, então, exibe um quadrado vazio desse tamanho com asteriscos. Seu programa deve trabalhar com quadrados de todos os comprimentos de lado possíveis entre 1 e 20')\n",
    "\n",
    "print(negrito('\\nRESPOSTA:'))\n",
    "\n",
    "tam_lado = int(input('Insira o lado do seu quadrado: '))\n",
    "contador = 0\n",
    "\n",
    "if tam_lado >= 1 and tam_lado <= 20:\n",
    "    print('* ' * tam_lado)\n",
    "\n",
    "    while contador < tam_lado-2:\n",
    "        print('* ' + '  '*(tam_lado-2) + '*')\n",
    "        contador += 1\n",
    "    \n",
    "    print('* ' * tam_lado)\n",
    "\n"
   ]
  },
  {
   "cell_type": "code",
   "execution_count": null,
   "metadata": {},
   "outputs": [],
   "source": [
    "print(negrito('QUESTÃO 03'))\n",
    "print('Crie um jogo simples de adivinhação em que o programa escolhe um número aleatório entre 1 e 100 e o usuário tem que adivinhar.')\n",
    "\n",
    "print(negrito('\\nRESPOSTA:'))\n",
    "num_aleatorio = random.randint(1, 100)\n",
    "\n",
    "while True:\n",
    "    try:\n",
    "        resposta_user = int(input('Advinhe o número de 1 a 100 que eu pensei: '))\n",
    "\n",
    "        if resposta_user != num_aleatorio:\n",
    "            print('Tente novamente!')\n",
    "            print(num_aleatorio)\n",
    "\n",
    "        else:\n",
    "            print(f'Você acertou! A resposta era {num_aleatorio}')\n",
    "            break\n",
    "        \n",
    "    except ValueError:\n",
    "        print('Digite apenas números inteiros!')\n",
    "\n"
   ]
  },
  {
   "cell_type": "code",
   "execution_count": 39,
   "metadata": {},
   "outputs": [
    {
     "name": "stdout",
     "output_type": "stream",
     "text": [
      "\u001b[1mQUESTÃO 04\u001b[0m\n",
      "Verifique se uma string é um palíndromo, ignorando espaços, pontuações e diferenças entre maiúsculas e minúsculas.\n",
      "\u001b[1m\n",
      "RESPOSTA:\u001b[0m\n",
      "Ovo não é um palíndromo!\n"
     ]
    }
   ],
   "source": [
    "print(negrito('QUESTÃO 04'))\n",
    "print('Verifique se uma string é um palíndromo, ignorando espaços, pontuações e diferenças entre maiúsculas e minúsculas.')\n",
    "\n",
    "print(negrito('\\nRESPOSTA:'))\n",
    "\n",
    "entrada_user = input('Digite algo: ')\n",
    "entrada_limpa = re.sub(r'[^a-zA-Z0-9]', '', entrada_user)\n",
    "entrada_padronizada = entrada_limpa.lower()\n",
    "\n",
    "if entrada_user.lower() == entrada_padronizada[::-1]:\n",
    "    print(f'{entrada_user} é um palíndromo!')\n",
    "else: \n",
    "    print(f'{entrada_user} não é um palíndromo!')\n",
    "\n"
   ]
  },
  {
   "cell_type": "code",
   "execution_count": null,
   "metadata": {},
   "outputs": [],
   "source": [
    "print(negrito('QUESTÃO 05'))\n",
    "print('Crie um programa que verifique se duas palavras ou frases são anagramas, ou seja, se possuem os mesmos caracteres (ignorando espaços e maiúsculas/minúsculas).')\n",
    "\n",
    "print(negrito('\\nRESPOSTA:'))"
   ]
  },
  {
   "cell_type": "code",
   "execution_count": null,
   "metadata": {},
   "outputs": [],
   "source": [
    "print(negrito('QUESTÃO 06'))\n",
    "print('Implemente o algoritmo da sequência de Collatz. Dado um número inteiro positivo, se ele for par, divida-o por 2; se for ímpar, multiplique-o por 3 e some 1. Repita o processo até que o número se torne 1. Exiba a sequência completa e o número de passos necessários.')\n",
    "\n",
    "print(negrito('\\nRESPOSTA:'))"
   ]
  },
  {
   "cell_type": "code",
   "execution_count": null,
   "metadata": {},
   "outputs": [],
   "source": [
    "print(negrito('QUESTÃO 07'))\n",
    "print('Implemente o Crivo de Eratóstenes (faça uma pesquisa) para gerar todos os números primos até um número N fornecido pelo usuário.')\n",
    "\n",
    "print(negrito('\\nRESPOSTA:'))"
   ]
  },
  {
   "cell_type": "code",
   "execution_count": null,
   "metadata": {},
   "outputs": [],
   "source": [
    "print(negrito('QUESTÃO 08'))\n",
    "print('A série de Fibonacci é 1, 1, 2, 3, 5, 8, 13, 21, 34, 55, ... Os dois primeiros termos são iguais a 1, e a partir do terceiro, o termo é dado pela soma dos dois termos anteriores. Dado um número n≥3, exiba o n-ésimo termo da série de Fibonacci. (Não use recursivo).')\n",
    "\n",
    "print(negrito('\\nRESPOSTA:'))"
   ]
  },
  {
   "cell_type": "code",
   "execution_count": null,
   "metadata": {},
   "outputs": [],
   "source": [
    "print(negrito('QUESTÃO 09'))\n",
    "print('Um número de Armstrong é aquele que é igual à soma de seus dígitos elevados à potência do número de dígitos. Por exemplo, 153 é um número de Armstrong, pois . Crie um programa que imprima todos os números de Armstrong em um intervalo definido pelo usuário.')\n",
    "\n",
    "print(negrito('\\nRESPOSTA:'))"
   ]
  },
  {
   "cell_type": "code",
   "execution_count": null,
   "metadata": {},
   "outputs": [],
   "source": [
    "print(negrito('QUESTÃO 10'))\n",
    "print('Crie um programa que leia uma lista de palavras e um termo a ser buscado. Utilize um laço for para realizar uma busca linear na lista. Se a palavra for encontrada, imprima o índice em que ela está; caso contrário, informe que a palavra não foi encontrada.')\n",
    "\n",
    "print(negrito('\\nRESPOSTA:'))"
   ]
  }
 ],
 "metadata": {
  "kernelspec": {
   "display_name": "Python 3",
   "language": "python",
   "name": "python3"
  },
  "language_info": {
   "codemirror_mode": {
    "name": "ipython",
    "version": 3
   },
   "file_extension": ".py",
   "mimetype": "text/x-python",
   "name": "python",
   "nbconvert_exporter": "python",
   "pygments_lexer": "ipython3",
   "version": "3.13.0"
  }
 },
 "nbformat": 4,
 "nbformat_minor": 2
}
