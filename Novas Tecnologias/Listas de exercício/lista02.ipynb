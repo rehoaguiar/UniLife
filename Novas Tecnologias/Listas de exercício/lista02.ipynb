{
 "cells": [
  {
   "cell_type": "code",
   "execution_count": 2,
   "metadata": {},
   "outputs": [
    {
     "name": "stdout",
     "output_type": "stream",
     "text": [
      "\n",
      "\n",
      "██╗░░░░░██╗░██████╗████████╗░█████╗░  ██████╗░███████╗\n",
      "██║░░░░░██║██╔════╝╚══██╔══╝██╔══██╗  ██╔══██╗██╔════╝\n",
      "██║░░░░░██║╚█████╗░░░░██║░░░███████║  ██║░░██║█████╗░░\n",
      "██║░░░░░██║░╚═══██╗░░░██║░░░██╔══██║  ██║░░██║██╔══╝░░\n",
      "███████╗██║██████╔╝░░░██║░░░██║░░██║  ██████╔╝███████╗\n",
      "╚══════╝╚═╝╚═════╝░░░░╚═╝░░░╚═╝░░╚═╝  ╚═════╝░╚══════╝\n",
      "\n",
      "███████╗██╗░░██╗███████╗██████╗░░█████╗░██╗░█████╗░██╗░█████╗░░██████╗  ░█████╗░░░███╗░░\n",
      "██╔════╝╚██╗██╔╝██╔════╝██╔══██╗██╔══██╗██║██╔══██╗██║██╔══██╗██╔════╝  ██╔══██╗░████║░░\n",
      "█████╗░░░╚███╔╝░█████╗░░██████╔╝██║░░╚═╝██║██║░░╚═╝██║██║░░██║╚█████╗░  ██║░░██║██╔██║░░\n",
      "██╔══╝░░░██╔██╗░██╔══╝░░██╔══██╗██║░░██╗██║██║░░██╗██║██║░░██║░╚═══██╗  ██║░░██║╚═╝██║░░\n",
      "███████╗██╔╝╚██╗███████╗██║░░██║╚█████╔╝██║╚█████╔╝██║╚█████╔╝██████╔╝  ╚█████╔╝███████╗\n",
      "╚══════╝╚═╝░░╚═╝╚══════╝╚═╝░░╚═╝░╚════╝░╚═╝░╚════╝░╚═╝░╚════╝░╚═════╝░  ░╚════╝░╚══════╝\n"
     ]
    }
   ],
   "source": [
    "print('''\n",
    "\n",
    "██╗░░░░░██╗░██████╗████████╗░█████╗░  ██████╗░███████╗\n",
    "██║░░░░░██║██╔════╝╚══██╔══╝██╔══██╗  ██╔══██╗██╔════╝\n",
    "██║░░░░░██║╚█████╗░░░░██║░░░███████║  ██║░░██║█████╗░░\n",
    "██║░░░░░██║░╚═══██╗░░░██║░░░██╔══██║  ██║░░██║██╔══╝░░\n",
    "███████╗██║██████╔╝░░░██║░░░██║░░██║  ██████╔╝███████╗\n",
    "╚══════╝╚═╝╚═════╝░░░░╚═╝░░░╚═╝░░╚═╝  ╚═════╝░╚══════╝\n",
    "\n",
    "███████╗██╗░░██╗███████╗██████╗░░█████╗░██╗░█████╗░██╗░█████╗░░██████╗  ░█████╗░░░███╗░░\n",
    "██╔════╝╚██╗██╔╝██╔════╝██╔══██╗██╔══██╗██║██╔══██╗██║██╔══██╗██╔════╝  ██╔══██╗░████║░░\n",
    "█████╗░░░╚███╔╝░█████╗░░██████╔╝██║░░╚═╝██║██║░░╚═╝██║██║░░██║╚█████╗░  ██║░░██║██╔██║░░\n",
    "██╔══╝░░░██╔██╗░██╔══╝░░██╔══██╗██║░░██╗██║██║░░██╗██║██║░░██║░╚═══██╗  ██║░░██║╚═╝██║░░\n",
    "███████╗██╔╝╚██╗███████╗██║░░██║╚█████╔╝██║╚█████╔╝██║╚█████╔╝██████╔╝  ╚█████╔╝███████╗\n",
    "╚══════╝╚═╝░░╚═╝╚══════╝╚═╝░░╚═╝░╚════╝░╚═╝░╚════╝░╚═╝░╚════╝░╚═════╝░  ░╚════╝░╚══════╝''')\n",
    "\n",
    "# Função de Estilização\n",
    "def negrito(texto):\n",
    "    return f\"\\033[1m{texto}\\033[0m\""
   ]
  },
  {
   "cell_type": "code",
   "execution_count": 7,
   "metadata": {},
   "outputs": [
    {
     "name": "stdout",
     "output_type": "stream",
     "text": [
      "\u001b[1mQUESTÃO 01\u001b[0m\n",
      "Crie um programa que some todos os números pares entre 1 e N, onde N é fornecido pelo usuário\n",
      "\u001b[1m\n",
      "RESPOSTA:\u001b[0m\n",
      "O valor de 10 é igual a 30\n"
     ]
    }
   ],
   "source": [
    "print(negrito('QUESTÃO 01'))\n",
    "print('Crie um programa que some todos os números pares entre 1 e N, onde N é fornecido pelo usuário')\n",
    "\n",
    "print(negrito('\\nRESPOSTA:'))\n",
    "\n",
    "n = int(input('Digite um valor para N: '))\n",
    "contador = 0\n",
    "soma = 0\n",
    "\n",
    "while contador <= n:\n",
    "    if contador % 2 == 0:\n",
    "        soma += contador\n",
    "    \n",
    "    contador += 1\n",
    "\n",
    "print(f'O valor de {n} é igual a {soma}')\n"
   ]
  },
  {
   "cell_type": "code",
   "execution_count": null,
   "metadata": {},
   "outputs": [
    {
     "name": "stdout",
     "output_type": "stream",
     "text": [
      "\u001b[1mQUESTÃO 02\u001b[0m\n",
      "Escreva um aplicativo que solicita ao usuário que insira o tamanho do lado de um quadrado e, então, exibe um quadrado vazio desse tamanho com asteriscos. Seu programa deve trabalhar com quadrados de todos os comprimentos de lado possíveis entre 1 e 20\n",
      "\u001b[1m\n",
      "RESPOSTA:\u001b[0m\n",
      "***\n",
      "**\n",
      "**\n",
      "**\n",
      "**\n",
      "**\n",
      "**\n",
      "**\n",
      "**\n",
      "**\n",
      "**\n",
      "**\n",
      "**\n",
      "**\n",
      "**\n",
      "**\n",
      "**\n",
      "**\n",
      "**\n",
      "**\n",
      "**\n",
      "**\n",
      "***\n"
     ]
    }
   ],
   "source": [
    "print(negrito('QUESTÃO 02'))\n",
    "print('Escreva um aplicativo que solicita ao usuário que insira o tamanho do lado de um quadrado e, então, exibe um quadrado vazio desse tamanho com asteriscos. Seu programa deve trabalhar com quadrados de todos os comprimentos de lado possíveis entre 1 e 20')\n",
    "\n",
    "print(negrito('\\nRESPOSTA:'))\n",
    "\n",
    "tam_lado = int(input('Insira o lado do seu quadrado: '))\n",
    "contador = 0\n",
    "\n",
    "if tam_lado >= 1 and tam_lado <= 20:\n",
    "    print('*' * tam_lado)\n",
    "\n",
    "    while contador <= tam_lado-2:\n",
    "        print('*' + ''*(tam_lado-2) + '*')\n",
    "        contador += 1\n",
    "    \n",
    "    print('*' * tam_lado)\n",
    "\n"
   ]
  },
  {
   "cell_type": "markdown",
   "metadata": {},
   "source": [
    "2. Escreva um aplicativo que solicita ao usuário que insira o tamanho do lado de um quadrado e, então, exibe um quadrado vazio desse tamanho com asteriscos. Seu programa deve trabalhar com quadrados de todos os comprimentos de lado possíveis entre 1 e 20"
   ]
  },
  {
   "cell_type": "markdown",
   "metadata": {},
   "source": [
    "3. Crie um jogo simples de adivinhação em que o programa escolhe um número aleatório entre 1\n",
    "e 100 e o usuário tem que adivinhar."
   ]
  },
  {
   "cell_type": "markdown",
   "metadata": {},
   "source": [
    "4. Verifique se uma string é um palíndromo, ignorando espaços, pontuações e diferenças entre\n",
    "maiúsculas e minúsculas."
   ]
  },
  {
   "cell_type": "markdown",
   "metadata": {},
   "source": [
    "5. Crie um programa que verifique se duas palavras ou frases são anagramas, ou seja, se\n",
    "possuem os mesmos caracteres (ignorando espaços e maiúsculas/minúsculas)."
   ]
  },
  {
   "cell_type": "markdown",
   "metadata": {},
   "source": [
    "6. Implemente o algoritmo da sequência de Collatz. Dado um número inteiro positivo, se ele for\n",
    "par, divida-o por 2; se for ímpar, multiplique-o por 3 e some 1. Repita o processo até que o\n",
    "número se torne 1. Exiba a sequência completa e o número de passos necessários."
   ]
  },
  {
   "cell_type": "markdown",
   "metadata": {},
   "source": [
    "7. Implemente o Crivo de Eratóstenes (faça uma pesquisa) para gerar todos os números primos\n",
    "até um número N fornecido pelo usuário."
   ]
  },
  {
   "cell_type": "markdown",
   "metadata": {},
   "source": [
    "8.A série de Fibonacci é 1, 1, 2, 3, 5, 8, 13, 21, 34, 55, ... Os dois primeiros termos são iguais a 1, e a partir do terceiro, o termo é dado pela soma dos dois termos anteriores. Dado um número n≥3, exiba o n-ésimo termo da série de Fibonacci. (Não use recursivo)."
   ]
  },
  {
   "cell_type": "markdown",
   "metadata": {},
   "source": [
    "9. Um número de Armstrong é aquele que é igual à soma de seus dígitos elevados à potência do\n",
    "número de dígitos. Por exemplo, 153 é um número de Armstrong, pois .\n",
    "Crie um programa que imprima todos os números de Armstrong em um intervalo definido pelo\n",
    "usuário."
   ]
  },
  {
   "cell_type": "markdown",
   "metadata": {},
   "source": [
    "10. Crie um programa que leia uma lista de palavras e um termo a ser buscado. Utilize um laço for para realizar uma busca linear na lista. Se a palavra for encontrada, imprima o índice em que ela está; caso contrário, informe que a palavra não foi encontrada."
   ]
  }
 ],
 "metadata": {
  "kernelspec": {
   "display_name": "Python 3",
   "language": "python",
   "name": "python3"
  },
  "language_info": {
   "codemirror_mode": {
    "name": "ipython",
    "version": 3
   },
   "file_extension": ".py",
   "mimetype": "text/x-python",
   "name": "python",
   "nbconvert_exporter": "python",
   "pygments_lexer": "ipython3",
   "version": "3.12.5"
  }
 },
 "nbformat": 4,
 "nbformat_minor": 2
}
