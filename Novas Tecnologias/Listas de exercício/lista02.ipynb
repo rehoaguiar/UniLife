{
 "cells": [
  {
   "cell_type": "code",
   "execution_count": 2,
   "metadata": {},
   "outputs": [
    {
     "name": "stdout",
     "output_type": "stream",
     "text": [
      "\n",
      "\n",
      "██╗░░░░░██╗░██████╗████████╗░█████╗░  ██████╗░███████╗\n",
      "██║░░░░░██║██╔════╝╚══██╔══╝██╔══██╗  ██╔══██╗██╔════╝\n",
      "██║░░░░░██║╚█████╗░░░░██║░░░███████║  ██║░░██║█████╗░░\n",
      "██║░░░░░██║░╚═══██╗░░░██║░░░██╔══██║  ██║░░██║██╔══╝░░\n",
      "███████╗██║██████╔╝░░░██║░░░██║░░██║  ██████╔╝███████╗\n",
      "╚══════╝╚═╝╚═════╝░░░░╚═╝░░░╚═╝░░╚═╝  ╚═════╝░╚══════╝\n",
      "\n",
      "███████╗██╗░░██╗███████╗██████╗░░█████╗░██╗░█████╗░██╗░█████╗░░██████╗  ░█████╗░░░███╗░░\n",
      "██╔════╝╚██╗██╔╝██╔════╝██╔══██╗██╔══██╗██║██╔══██╗██║██╔══██╗██╔════╝  ██╔══██╗░████║░░\n",
      "█████╗░░░╚███╔╝░█████╗░░██████╔╝██║░░╚═╝██║██║░░╚═╝██║██║░░██║╚█████╗░  ██║░░██║██╔██║░░\n",
      "██╔══╝░░░██╔██╗░██╔══╝░░██╔══██╗██║░░██╗██║██║░░██╗██║██║░░██║░╚═══██╗  ██║░░██║╚═╝██║░░\n",
      "███████╗██╔╝╚██╗███████╗██║░░██║╚█████╔╝██║╚█████╔╝██║╚█████╔╝██████╔╝  ╚█████╔╝███████╗\n",
      "╚══════╝╚═╝░░╚═╝╚══════╝╚═╝░░╚═╝░╚════╝░╚═╝░╚════╝░╚═╝░╚════╝░╚═════╝░  ░╚════╝░╚══════╝\n"
     ]
    }
   ],
   "source": [
    "print('''\n",
    "\n",
    "██╗░░░░░██╗░██████╗████████╗░█████╗░  ██████╗░███████╗\n",
    "██║░░░░░██║██╔════╝╚══██╔══╝██╔══██╗  ██╔══██╗██╔════╝\n",
    "██║░░░░░██║╚█████╗░░░░██║░░░███████║  ██║░░██║█████╗░░\n",
    "██║░░░░░██║░╚═══██╗░░░██║░░░██╔══██║  ██║░░██║██╔══╝░░\n",
    "███████╗██║██████╔╝░░░██║░░░██║░░██║  ██████╔╝███████╗\n",
    "╚══════╝╚═╝╚═════╝░░░░╚═╝░░░╚═╝░░╚═╝  ╚═════╝░╚══════╝\n",
    "\n",
    "███████╗██╗░░██╗███████╗██████╗░░█████╗░██╗░█████╗░██╗░█████╗░░██████╗  ░█████╗░░░███╗░░\n",
    "██╔════╝╚██╗██╔╝██╔════╝██╔══██╗██╔══██╗██║██╔══██╗██║██╔══██╗██╔════╝  ██╔══██╗░████║░░\n",
    "█████╗░░░╚███╔╝░█████╗░░██████╔╝██║░░╚═╝██║██║░░╚═╝██║██║░░██║╚█████╗░  ██║░░██║██╔██║░░\n",
    "██╔══╝░░░██╔██╗░██╔══╝░░██╔══██╗██║░░██╗██║██║░░██╗██║██║░░██║░╚═══██╗  ██║░░██║╚═╝██║░░\n",
    "███████╗██╔╝╚██╗███████╗██║░░██║╚█████╔╝██║╚█████╔╝██║╚█████╔╝██████╔╝  ╚█████╔╝███████╗\n",
    "╚══════╝╚═╝░░╚═╝╚══════╝╚═╝░░╚═╝░╚════╝░╚═╝░╚════╝░╚═╝░╚════╝░╚═════╝░  ░╚════╝░╚══════╝''')\n",
    "\n",
    "# Função de Estilização\n",
    "def negrito(texto):\n",
    "    return f\"\\033[1m{texto}\\033[0m\"\n",
    "\n",
    "# Importando bibliotecas\n",
    "import random\n",
    "import re\n",
    "import math"
   ]
  },
  {
   "cell_type": "code",
   "execution_count": null,
   "metadata": {},
   "outputs": [],
   "source": [
    "print(negrito('QUESTÃO 01'))\n",
    "print('Crie um programa que some todos os números pares entre 1 e N, onde N é fornecido pelo usuário')\n",
    "\n",
    "print(negrito('\\nRESPOSTA:'))\n",
    "\n",
    "n = int(input('Digite um valor para N: '))\n",
    "contador = 0\n",
    "soma = 0\n",
    "\n",
    "while contador <= n:\n",
    "    if contador % 2 == 0:\n",
    "        soma += contador\n",
    "    \n",
    "    contador += 1\n",
    "\n",
    "print(f'O valor de {n} é igual a {soma}')\n"
   ]
  },
  {
   "cell_type": "code",
   "execution_count": 24,
   "metadata": {},
   "outputs": [
    {
     "name": "stdout",
     "output_type": "stream",
     "text": [
      "\u001b[1mQUESTÃO 02\u001b[0m\n",
      "Escreva um aplicativo que solicita ao usuário que insira o tamanho do lado de um quadrado e, então, exibe um quadrado vazio desse tamanho com asteriscos. Seu programa deve trabalhar com quadrados de todos os comprimentos de lado possíveis entre 1 e 20\n",
      "\u001b[1m\n",
      "RESPOSTA:\u001b[0m\n",
      "* * * * * \n",
      "*       *\n",
      "*       *\n",
      "*       *\n",
      "* * * * * \n"
     ]
    }
   ],
   "source": [
    "print(negrito('QUESTÃO 02'))\n",
    "print('Escreva um aplicativo que solicita ao usuário que insira o tamanho do lado de um quadrado e, então, exibe um quadrado vazio desse tamanho com asteriscos. Seu programa deve trabalhar com quadrados de todos os comprimentos de lado possíveis entre 1 e 20')\n",
    "\n",
    "print(negrito('\\nRESPOSTA:'))\n",
    "\n",
    "tam_lado = int(input('Insira o lado do seu quadrado: '))\n",
    "contador = 0\n",
    "\n",
    "if tam_lado >= 1 and tam_lado <= 20:\n",
    "    print('* ' * tam_lado)\n",
    "\n",
    "    while contador < tam_lado-2:\n",
    "        print('* ' + '  '*(tam_lado-2) + '*')\n",
    "        contador += 1\n",
    "    \n",
    "    print('* ' * tam_lado)\n",
    "\n"
   ]
  },
  {
   "cell_type": "code",
   "execution_count": null,
   "metadata": {},
   "outputs": [],
   "source": [
    "print(negrito('QUESTÃO 03'))\n",
    "print('Crie um jogo simples de adivinhação em que o programa escolhe um número aleatório entre 1 e 100 e o usuário tem que adivinhar.')\n",
    "\n",
    "print(negrito('\\nRESPOSTA:'))\n",
    "num_aleatorio = random.randint(1, 100)\n",
    "\n",
    "while True:\n",
    "    try:\n",
    "        resposta_user = int(input('Advinhe o número de 1 a 100 que eu pensei: '))\n",
    "\n",
    "        if resposta_user != num_aleatorio:\n",
    "            print('Tente novamente!')\n",
    "            print(num_aleatorio)\n",
    "\n",
    "        else:\n",
    "            print(f'Você acertou! A resposta era {num_aleatorio}')\n",
    "            break\n",
    "        \n",
    "    except ValueError:\n",
    "        print('Digite apenas números inteiros!')\n",
    "\n"
   ]
  },
  {
   "cell_type": "code",
   "execution_count": 39,
   "metadata": {},
   "outputs": [
    {
     "name": "stdout",
     "output_type": "stream",
     "text": [
      "\u001b[1mQUESTÃO 04\u001b[0m\n",
      "Verifique se uma string é um palíndromo, ignorando espaços, pontuações e diferenças entre maiúsculas e minúsculas.\n",
      "\u001b[1m\n",
      "RESPOSTA:\u001b[0m\n",
      "Ovo não é um palíndromo!\n"
     ]
    }
   ],
   "source": [
    "print(negrito('QUESTÃO 04'))\n",
    "print('Verifique se uma string é um palíndromo, ignorando espaços, pontuações e diferenças entre maiúsculas e minúsculas.')\n",
    "\n",
    "print(negrito('\\nRESPOSTA:'))\n",
    "\n",
    "entrada_user = input('Digite algo: ')\n",
    "entrada_limpa = re.sub(r'[^a-zA-Z0-9]', '', entrada_user)\n",
    "entrada_padronizada = entrada_limpa.lower()\n",
    "\n",
    "if entrada_user.lower() == entrada_padronizada[::-1]:\n",
    "    print(f'{entrada_user} é um palíndromo!')\n",
    "else: \n",
    "    print(f'{entrada_user} não é um palíndromo!')\n",
    "\n"
   ]
  },
  {
   "cell_type": "code",
   "execution_count": 6,
   "metadata": {},
   "outputs": [
    {
     "name": "stdout",
     "output_type": "stream",
     "text": [
      "\u001b[1mQUESTÃO 05\u001b[0m\n",
      "Crie um programa que verifique se duas palavras ou frases são anagramas, ou seja, se possuem os mesmos caracteres (ignorando espaços e maiúsculas/minúsculas).\n",
      "\u001b[1m\n",
      "RESPOSTA:\u001b[0m\n",
      "A palavra 6 e a palavra 6 são anagramas!\n"
     ]
    }
   ],
   "source": [
    "print(negrito('QUESTÃO 05'))\n",
    "print('Crie um programa que verifique se duas palavras ou frases são anagramas, ou seja, se possuem os mesmos caracteres (ignorando espaços e maiúsculas/minúsculas).')\n",
    "\n",
    "print(negrito('\\nRESPOSTA:'))\n",
    "\n",
    "palavra_user1 = input('Digite uma palavra ou frase: ')\n",
    "palavra_user2 = input('Digite outra palavra ou frase: ')\n",
    "\n",
    "palavra1_limpa = re.sub(r'[^a-zA-Z0-9]', '', palavra_user1)\n",
    "palavra2_limpa = re.sub(r'[^a-zA-Z0-9]', '', palavra_user2)\n",
    "\n",
    "palavra1_padronizada = palavra1_limpa.lower()\n",
    "palavra2_padronizada = palavra2_limpa.lower()\n",
    "\n",
    "if sorted(palavra1_padronizada) == sorted(palavra2_padronizada):\n",
    "    print(f'A palavra {palavra_user1} e a palavra {palavra_user2} são anagramas!')\n",
    "else:\n",
    "    print(f'A palavra {palavra_user1} e a palavra {palavra_user2} não são anagramas!')\n"
   ]
  },
  {
   "cell_type": "code",
   "execution_count": 19,
   "metadata": {},
   "outputs": [
    {
     "name": "stdout",
     "output_type": "stream",
     "text": [
      "\u001b[1mQUESTÃO 06\u001b[0m\n",
      "Implemente o algoritmo da sequência de Collatz. Dado um número inteiro positivo, se ele for par, divida-o por 2; se for ímpar, multiplique-o por 3 e some 1. Repita o processo até que o número se torne 1. Exiba a sequência completa e o número de passos necessários.\n",
      "\u001b[1m\n",
      "RESPOSTA:\u001b[0m\n",
      "\n",
      "Ao implementarmos o algoritmo da sequência de Collatz ao número 10, obtivemos:\n",
      "5.0\n",
      "16.0\n",
      "8.0\n",
      "4.0\n",
      "2.0\n",
      "1.0\n"
     ]
    }
   ],
   "source": [
    "print(negrito('QUESTÃO 06'))\n",
    "print('Implemente o algoritmo da sequência de Collatz. Dado um número inteiro positivo, se ele for par, divida-o por 2; se for ímpar, multiplique-o por 3 e some 1. Repita o processo até que o número se torne 1. Exiba a sequência completa e o número de passos necessários.')\n",
    "\n",
    "print(negrito('\\nRESPOSTA:'))\n",
    "\n",
    "entrada = input('Digite um número: ')\n",
    "numero = int(entrada)\n",
    "\n",
    "print(f'\\nAo implementarmos o algoritmo da sequência de Collatz ao número {numero}, obtivemos:')\n",
    "\n",
    "\n",
    "while numero > 1:\n",
    "\n",
    "    if numero % 2 == 0:\n",
    "        numero = numero / 2\n",
    "        print(numero)\n",
    "\n",
    "    elif numero == 1:\n",
    "        print(numero)\n",
    "        break\n",
    "\n",
    "    else:\n",
    "        numero = (numero * 3) + 1\n",
    "        print(numero)\n"
   ]
  },
  {
   "cell_type": "code",
   "execution_count": null,
   "metadata": {},
   "outputs": [
    {
     "name": "stdout",
     "output_type": "stream",
     "text": [
      "\u001b[1mQUESTÃO 07\u001b[0m\n",
      "Implemente o Crivo de Eratóstenes (faça uma pesquisa) para gerar todos os números primos até um número N fornecido pelo usuário.\n",
      "\u001b[1m\n",
      "RESPOSTA:\u001b[0m\n",
      "Número:2\n",
      "Número primo encontrado:|2\n",
      "Marcando 4 como não primo.\n",
      "Marcando 6 como não primo.\n",
      "Marcando 8 como não primo.\n",
      "Marcando 10 como não primo.\n",
      "Número:3\n",
      "Número primo encontrado:|3\n",
      "Marcando 9 como não primo.\n",
      "[2, 3, 5, 7]\n"
     ]
    }
   ],
   "source": [
    "print(negrito('QUESTÃO 07'))\n",
    "print('Implemente o Crivo de Eratóstenes (faça uma pesquisa) para gerar todos os números primos até um número N fornecido pelo usuário.')\n",
    "\n",
    "print(negrito('\\nRESPOSTA:'))\n",
    "\n",
    "entrada_user = input('Digite um número: ')\n",
    "\n",
    "if entrada_user.isdigit():\n",
    "    numero = int(entrada_user)\n",
    "\n",
    "    if numero > 1:\n",
    "        primos = [True] * (numero + 1)\n",
    "        primos[0] = primos[1] = False\n",
    "\n",
    "        for i in range(2, int(math.sqrt(numero)) + 1):\n",
    "            print(f'Número: {i}')\n",
    "            if primos[i]:\n",
    "                print(f'Número primo encontrado: {i}')\n",
    "                for multiplo in range(i * i, numero + 1, i):\n",
    "                    primos[multiplo] = False\n",
    "                    print(f\"Marcando {multiplo} como não primo.\")\n",
    "\n",
    "\n",
    "        lista_primos = [i for i in range(2, numero + 1) if primos[i]]\n",
    "\n",
    "        print(lista_primos)\n",
    "\n",
    "    else:\n",
    "        print('O número escolhido precisa ser maior que 1!')\n",
    "\n",
    "else:\n",
    "    print('Por favor, digite um número inteiro positivo!')"
   ]
  },
  {
   "cell_type": "code",
   "execution_count": null,
   "metadata": {},
   "outputs": [],
   "source": [
    "print(negrito('QUESTÃO 08'))\n",
    "print('A série de Fibonacci é 1, 1, 2, 3, 5, 8, 13, 21, 34, 55, ... Os dois primeiros termos são iguais a 1, e a partir do terceiro, o termo é dado pela soma dos dois termos anteriores. Dado um número n≥3, exiba o n-ésimo termo da série de Fibonacci. (Não use recursivo).')\n",
    "\n",
    "print(negrito('\\nRESPOSTA:'))"
   ]
  },
  {
   "cell_type": "code",
   "execution_count": null,
   "metadata": {},
   "outputs": [],
   "source": [
    "print(negrito('QUESTÃO 09'))\n",
    "print('Um número de Armstrong é aquele que é igual à soma de seus dígitos elevados à potência do número de dígitos. Por exemplo, 153 é um número de Armstrong, pois . Crie um programa que imprima todos os números de Armstrong em um intervalo definido pelo usuário.')\n",
    "\n",
    "print(negrito('\\nRESPOSTA:'))"
   ]
  },
  {
   "cell_type": "code",
   "execution_count": null,
   "metadata": {},
   "outputs": [],
   "source": [
    "print(negrito('QUESTÃO 10'))\n",
    "print('Crie um programa que leia uma lista de palavras e um termo a ser buscado. Utilize um laço for para realizar uma busca linear na lista. Se a palavra for encontrada, imprima o índice em que ela está; caso contrário, informe que a palavra não foi encontrada.')\n",
    "\n",
    "print(negrito('\\nRESPOSTA:'))"
   ]
  }
 ],
 "metadata": {
  "kernelspec": {
   "display_name": "Python 3",
   "language": "python",
   "name": "python3"
  },
  "language_info": {
   "codemirror_mode": {
    "name": "ipython",
    "version": 3
   },
   "file_extension": ".py",
   "mimetype": "text/x-python",
   "name": "python",
   "nbconvert_exporter": "python",
   "pygments_lexer": "ipython3",
   "version": "3.12.9"
  }
 },
 "nbformat": 4,
 "nbformat_minor": 2
}
